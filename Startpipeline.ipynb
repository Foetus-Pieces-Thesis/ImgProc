{
 "cells": [
  {
   "cell_type": "code",
   "execution_count": null,
   "id": "534c7606-604c-4222-b524-122f745cfe5b",
   "metadata": {},
   "outputs": [],
   "source": [
    "from libtiff import TIFF\n",
    "from PIL import Image, ImageEnhance, ImageSequence\n",
    "import numpy as np\n",
    "import cv2\n",
    "\n",
    "def sharpen(image,ddepth=-1):\n",
    "\n",
    "    kernel = np.array([[0, -1, 0],\n",
    "                       [-1, 5,-1],\n",
    "                       [0, -1, 0]])\n",
    "    image_sharp = cv2.filter2D(src=image, ddepth=-1, kernel=kernel)\n",
    "    return image_sharp\n",
    "\n",
    "def mod_con_bri(alpha,beta,img):\n",
    "\n",
    "    adjusted = cv2.convertScaleAbs(img,alpha=alpha, beta=beta)\n",
    "\n",
    "    return adjusted\n",
    "\n",
    "\n",
    "# open tiff file in read mode\n",
    "tif = TIFF.open('C1-movie.tif', mode='r')\n",
    "# read an image in the current TIFF directory as a numpy array\n",
    "image = tif.read_image()\n",
    "\n",
    "\n",
    "#values for contrast and brightness\n",
    "alpha = 3.5\n",
    "beta = 15\n",
    "\n",
    "# read all images in a TIFF file:\n",
    "for image in tif.iter_images(): \n",
    "    adjusted = mod_con_bri(alpha, beta, image)\n",
    "    newimg = sharpen(adjusted)\n",
    "    pass\n",
    "\n",
    "# hopefully creates new tif file\n",
    "newtif = TIFF.open('modmovie.tif', mode = 'w')\n",
    "newtif.write_image(image)"
   ]
  },
  {
   "cell_type": "code",
   "execution_count": null,
   "id": "db7ffa76-9e59-4fbd-88b1-05770a5d341f",
   "metadata": {},
   "outputs": [],
   "source": [
    "# checks if tif file is correct\n",
    "img = Image.open('modmovie.tif')\n",
    "\n",
    "for i, page in enumerate(ImageSequence.Iterator(img):\n",
    "     page.show(\"page%d.png\" % i)"
   ]
  }
 ],
 "metadata": {
  "kernelspec": {
   "display_name": "Python 3 (ipykernel)",
   "language": "python",
   "name": "python3"
  },
  "language_info": {
   "codemirror_mode": {
    "name": "ipython",
    "version": 3
   },
   "file_extension": ".py",
   "mimetype": "text/x-python",
   "name": "python",
   "nbconvert_exporter": "python",
   "pygments_lexer": "ipython3",
   "version": "3.9.7"
  }
 },
 "nbformat": 4,
 "nbformat_minor": 5
}
