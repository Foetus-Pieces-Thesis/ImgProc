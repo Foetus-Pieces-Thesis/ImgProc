{
 "cells": [
  {
   "cell_type": "code",
   "execution_count": 2,
   "id": "20cc6f94-fcdd-45af-af57-34ed64980898",
   "metadata": {},
   "outputs": [],
   "source": [
    "# have stack.tif file in the same directory as this file for it to work\n",
    "\n",
    "import numpy as np\n",
    "from PIL import Image, ImageSequence\n",
    "import matplotlib.pyplot as plt\n",
    "\n",
    "# Load image\n",
    "im = Image.open('stack.tif')\n",
    "\n",
    "# Find no. of slices\n",
    "no_frames = im.n_frames\n",
    "\n",
    "# Create separate tif files for each slice\n",
    "for i in range(no_frames):\n",
    "    im.seek(i)\n",
    "    im.save('page_%s.tif'%(i,))"
   ]
  },
  {
   "cell_type": "code",
   "execution_count": 37,
   "id": "063ae06b-10e4-4b65-9af3-b6152d70a2c1",
   "metadata": {},
   "outputs": [
    {
     "name": "stdout",
     "output_type": "stream",
     "text": [
      "Using matplotlib backend: MacOSX\n"
     ]
    },
    {
     "data": {
      "text/plain": [
       "numpy.ndarray"
      ]
     },
     "execution_count": 37,
     "metadata": {},
     "output_type": "execute_result"
    }
   ],
   "source": [
    "%matplotlib\n",
    "\n",
    "# create list of individual slices\n",
    "images = []\n",
    "for i in range(no_frames):\n",
    "    temp_im = Image.open('page_%s.tif'%(i,))\n",
    "    imdata = temp_im.getdata()\n",
    "    x = np.reshape(imdata, (temp_im.height, temp_im.width))\n",
    "    x = np.asarray(x, dtype=np.uint8)\n",
    "    images.append(x)\n",
    "\n",
    "# convert to numpy array\n",
    "images_array = np.asarray(images)\n",
    "np.shape(images_array) # 15, 1024, 1024\n",
    "np.shape(images_array[0][0]) # 1024\n",
    "type(images_array)"
   ]
  },
  {
   "cell_type": "code",
   "execution_count": 8,
   "id": "1f89d8b4-7052-4358-a948-953123b13bfc",
   "metadata": {},
   "outputs": [
    {
     "name": "stdout",
     "output_type": "stream",
     "text": [
      "255\n"
     ]
    }
   ],
   "source": [
    "# Danny questions - what type of image is this? does it use a colourmap or not? what are the maximum rgb values?\n",
    "maxval = 0\n",
    "for i in range(1024):\n",
    "    for j in range(15):\n",
    "        tempmax = max(images_array[j][i])\n",
    "        if tempmax > maxval:\n",
    "            maxval = tempmax\n",
    "print(maxval)"
   ]
  },
  {
   "cell_type": "code",
   "execution_count": 15,
   "id": "de2a60c4-7594-45fa-a1b8-7b3367e55036",
   "metadata": {},
   "outputs": [
    {
     "name": "stdout",
     "output_type": "stream",
     "text": [
      "Using matplotlib backend: MacOSX\n"
     ]
    },
    {
     "data": {
      "text/plain": [
       "'\\nplt.imshow(images_array[1])\\nplt.colorbar()\\n'"
      ]
     },
     "execution_count": 15,
     "metadata": {},
     "output_type": "execute_result"
    }
   ],
   "source": [
    "# Create 3d axes - THIS WORKS\n",
    "%matplotlib\n",
    "from mpl_toolkits.mplot3d import Axes3D\n",
    "fig = plt.figure()\n",
    "ax = fig.add_subplot(111, projection='3d')\n",
    "# check to see image has loaded into array\n",
    "'''\n",
    "plt.imshow(images_array[1])\n",
    "plt.colorbar()\n",
    "'''"
   ]
  },
  {
   "cell_type": "code",
   "execution_count": 36,
   "id": "034b9aa5-91d5-4de8-9353-a7625b3d58eb",
   "metadata": {},
   "outputs": [
    {
     "ename": "TypeError",
     "evalue": "missing a required argument: 'X'",
     "output_type": "error",
     "traceback": [
      "\u001b[0;31m---------------------------------------------------------------------------\u001b[0m",
      "\u001b[0;31mTypeError\u001b[0m                                 Traceback (most recent call last)",
      "\u001b[0;32m/var/folders/mf/4f436l5x2h59328196w7lhyc0000gn/T/ipykernel_12741/2808574971.py\u001b[0m in \u001b[0;36m<module>\u001b[0;34m\u001b[0m\n\u001b[1;32m      2\u001b[0m \u001b[0mfig\u001b[0m \u001b[0;34m=\u001b[0m \u001b[0mplt\u001b[0m\u001b[0;34m.\u001b[0m\u001b[0mfigure\u001b[0m\u001b[0;34m(\u001b[0m\u001b[0;34m)\u001b[0m\u001b[0;34m\u001b[0m\u001b[0;34m\u001b[0m\u001b[0m\n\u001b[1;32m      3\u001b[0m \u001b[0max\u001b[0m \u001b[0;34m=\u001b[0m \u001b[0mfig\u001b[0m\u001b[0;34m.\u001b[0m\u001b[0madd_subplot\u001b[0m\u001b[0;34m(\u001b[0m\u001b[0;36m111\u001b[0m\u001b[0;34m,\u001b[0m \u001b[0mprojection\u001b[0m\u001b[0;34m=\u001b[0m\u001b[0;34m'3d'\u001b[0m\u001b[0;34m)\u001b[0m\u001b[0;34m\u001b[0m\u001b[0;34m\u001b[0m\u001b[0m\n\u001b[0;32m----> 4\u001b[0;31m \u001b[0mAxes3D\u001b[0m\u001b[0;34m.\u001b[0m\u001b[0mplot_surface\u001b[0m\u001b[0;34m(\u001b[0m\u001b[0mimages_array\u001b[0m\u001b[0;34m[\u001b[0m\u001b[0;36m1\u001b[0m\u001b[0;34m]\u001b[0m\u001b[0;34m)\u001b[0m\u001b[0;34m\u001b[0m\u001b[0;34m\u001b[0m\u001b[0m\n\u001b[0m",
      "\u001b[0;32m~/miniconda3/lib/python3.9/site-packages/matplotlib/_api/deprecation.py\u001b[0m in \u001b[0;36mwrapper\u001b[0;34m(*inner_args, **inner_kwargs)\u001b[0m\n\u001b[1;32m    385\u001b[0m             \u001b[0;31m# calling bind()).\u001b[0m\u001b[0;34m\u001b[0m\u001b[0;34m\u001b[0m\u001b[0;34m\u001b[0m\u001b[0m\n\u001b[1;32m    386\u001b[0m             \u001b[0;32mreturn\u001b[0m \u001b[0mfunc\u001b[0m\u001b[0;34m(\u001b[0m\u001b[0;34m*\u001b[0m\u001b[0minner_args\u001b[0m\u001b[0;34m,\u001b[0m \u001b[0;34m**\u001b[0m\u001b[0minner_kwargs\u001b[0m\u001b[0;34m)\u001b[0m\u001b[0;34m\u001b[0m\u001b[0;34m\u001b[0m\u001b[0m\n\u001b[0;32m--> 387\u001b[0;31m         \u001b[0marguments\u001b[0m \u001b[0;34m=\u001b[0m \u001b[0msignature\u001b[0m\u001b[0;34m.\u001b[0m\u001b[0mbind\u001b[0m\u001b[0;34m(\u001b[0m\u001b[0;34m*\u001b[0m\u001b[0minner_args\u001b[0m\u001b[0;34m,\u001b[0m \u001b[0;34m**\u001b[0m\u001b[0minner_kwargs\u001b[0m\u001b[0;34m)\u001b[0m\u001b[0;34m.\u001b[0m\u001b[0marguments\u001b[0m\u001b[0;34m\u001b[0m\u001b[0;34m\u001b[0m\u001b[0m\n\u001b[0m\u001b[1;32m    388\u001b[0m         \u001b[0;32mif\u001b[0m \u001b[0mis_varargs\u001b[0m \u001b[0;32mand\u001b[0m \u001b[0marguments\u001b[0m\u001b[0;34m.\u001b[0m\u001b[0mget\u001b[0m\u001b[0;34m(\u001b[0m\u001b[0mname\u001b[0m\u001b[0;34m)\u001b[0m\u001b[0;34m:\u001b[0m\u001b[0;34m\u001b[0m\u001b[0;34m\u001b[0m\u001b[0m\n\u001b[1;32m    389\u001b[0m             warn_deprecated(\n",
      "\u001b[0;32m~/miniconda3/lib/python3.9/inspect.py\u001b[0m in \u001b[0;36mbind\u001b[0;34m(self, *args, **kwargs)\u001b[0m\n\u001b[1;32m   3060\u001b[0m         \u001b[0;32mif\u001b[0m \u001b[0mthe\u001b[0m \u001b[0mpassed\u001b[0m \u001b[0marguments\u001b[0m \u001b[0mcan\u001b[0m \u001b[0;32mnot\u001b[0m \u001b[0mbe\u001b[0m \u001b[0mbound\u001b[0m\u001b[0;34m.\u001b[0m\u001b[0;34m\u001b[0m\u001b[0;34m\u001b[0m\u001b[0m\n\u001b[1;32m   3061\u001b[0m         \"\"\"\n\u001b[0;32m-> 3062\u001b[0;31m         \u001b[0;32mreturn\u001b[0m \u001b[0mself\u001b[0m\u001b[0;34m.\u001b[0m\u001b[0m_bind\u001b[0m\u001b[0;34m(\u001b[0m\u001b[0margs\u001b[0m\u001b[0;34m,\u001b[0m \u001b[0mkwargs\u001b[0m\u001b[0;34m)\u001b[0m\u001b[0;34m\u001b[0m\u001b[0;34m\u001b[0m\u001b[0m\n\u001b[0m\u001b[1;32m   3063\u001b[0m \u001b[0;34m\u001b[0m\u001b[0m\n\u001b[1;32m   3064\u001b[0m     \u001b[0;32mdef\u001b[0m \u001b[0mbind_partial\u001b[0m\u001b[0;34m(\u001b[0m\u001b[0mself\u001b[0m\u001b[0;34m,\u001b[0m \u001b[0;34m/\u001b[0m\u001b[0;34m,\u001b[0m \u001b[0;34m*\u001b[0m\u001b[0margs\u001b[0m\u001b[0;34m,\u001b[0m \u001b[0;34m**\u001b[0m\u001b[0mkwargs\u001b[0m\u001b[0;34m)\u001b[0m\u001b[0;34m:\u001b[0m\u001b[0;34m\u001b[0m\u001b[0;34m\u001b[0m\u001b[0m\n",
      "\u001b[0;32m~/miniconda3/lib/python3.9/inspect.py\u001b[0m in \u001b[0;36m_bind\u001b[0;34m(self, args, kwargs, partial)\u001b[0m\n\u001b[1;32m   2975\u001b[0m                             \u001b[0mmsg\u001b[0m \u001b[0;34m=\u001b[0m \u001b[0;34m'missing a required argument: {arg!r}'\u001b[0m\u001b[0;34m\u001b[0m\u001b[0;34m\u001b[0m\u001b[0m\n\u001b[1;32m   2976\u001b[0m                             \u001b[0mmsg\u001b[0m \u001b[0;34m=\u001b[0m \u001b[0mmsg\u001b[0m\u001b[0;34m.\u001b[0m\u001b[0mformat\u001b[0m\u001b[0;34m(\u001b[0m\u001b[0marg\u001b[0m\u001b[0;34m=\u001b[0m\u001b[0mparam\u001b[0m\u001b[0;34m.\u001b[0m\u001b[0mname\u001b[0m\u001b[0;34m)\u001b[0m\u001b[0;34m\u001b[0m\u001b[0;34m\u001b[0m\u001b[0m\n\u001b[0;32m-> 2977\u001b[0;31m                             \u001b[0;32mraise\u001b[0m \u001b[0mTypeError\u001b[0m\u001b[0;34m(\u001b[0m\u001b[0mmsg\u001b[0m\u001b[0;34m)\u001b[0m \u001b[0;32mfrom\u001b[0m \u001b[0;32mNone\u001b[0m\u001b[0;34m\u001b[0m\u001b[0;34m\u001b[0m\u001b[0m\n\u001b[0m\u001b[1;32m   2978\u001b[0m             \u001b[0;32melse\u001b[0m\u001b[0;34m:\u001b[0m\u001b[0;34m\u001b[0m\u001b[0;34m\u001b[0m\u001b[0m\n\u001b[1;32m   2979\u001b[0m                 \u001b[0;31m# We have a positional argument to process\u001b[0m\u001b[0;34m\u001b[0m\u001b[0;34m\u001b[0m\u001b[0;34m\u001b[0m\u001b[0m\n",
      "\u001b[0;31mTypeError\u001b[0m: missing a required argument: 'X'"
     ]
    }
   ],
   "source": [
    "\n",
    "# Doesn't work - should create interactive 3d plot \n",
    "x_3d,y_3d = np.ogrid[0:images_array[0].shape[0], 0:images_array[0].shape[1]]\n",
    "fig = plt.figure()\n",
    "ax = fig.add_subplot(111, projection='3d')\n",
    "Axes3D.plot_surface()"
   ]
  },
  {
   "cell_type": "code",
   "execution_count": 52,
   "id": "610f91cd-5299-4d67-8d7a-bcc08e8af166",
   "metadata": {},
   "outputs": [
    {
     "ename": "AxisError",
     "evalue": "axis 2 is out of bounds for array of dimension 2",
     "output_type": "error",
     "traceback": [
      "\u001b[0;31m---------------------------------------------------------------------------\u001b[0m",
      "\u001b[0;31mAxisError\u001b[0m                                 Traceback (most recent call last)",
      "\u001b[0;32m/var/folders/mf/4f436l5x2h59328196w7lhyc0000gn/T/ipykernel_8601/3333697793.py\u001b[0m in \u001b[0;36m<module>\u001b[0;34m\u001b[0m\n\u001b[0;32m----> 1\u001b[0;31m \u001b[0mx\u001b[0m \u001b[0;34m=\u001b[0m \u001b[0mnp\u001b[0m\u001b[0;34m.\u001b[0m\u001b[0mconcatenate\u001b[0m\u001b[0;34m(\u001b[0m\u001b[0;34m[\u001b[0m\u001b[0mimages_array\u001b[0m\u001b[0;34m[\u001b[0m\u001b[0mi\u001b[0m\u001b[0;34m]\u001b[0m \u001b[0;32mfor\u001b[0m \u001b[0mi\u001b[0m \u001b[0;32min\u001b[0m \u001b[0mrange\u001b[0m\u001b[0;34m(\u001b[0m\u001b[0;36m15\u001b[0m\u001b[0;34m)\u001b[0m\u001b[0;34m]\u001b[0m\u001b[0;34m,\u001b[0m \u001b[0maxis\u001b[0m\u001b[0;34m=\u001b[0m\u001b[0;36m2\u001b[0m\u001b[0;34m)\u001b[0m \u001b[0;31m# this is the concatenation line that goes wrong. I want axis to be set to 2 so they stack in the z plane, but for some reason it doesn't work\u001b[0m\u001b[0;34m\u001b[0m\u001b[0;34m\u001b[0m\u001b[0m\n\u001b[0m\u001b[1;32m      2\u001b[0m \u001b[0mplt\u001b[0m\u001b[0;34m.\u001b[0m\u001b[0mimshow\u001b[0m\u001b[0;34m(\u001b[0m\u001b[0mx\u001b[0m\u001b[0;34m)\u001b[0m\u001b[0;34m\u001b[0m\u001b[0;34m\u001b[0m\u001b[0m\n",
      "\u001b[0;32m<__array_function__ internals>\u001b[0m in \u001b[0;36mconcatenate\u001b[0;34m(*args, **kwargs)\u001b[0m\n",
      "\u001b[0;31mAxisError\u001b[0m: axis 2 is out of bounds for array of dimension 2"
     ]
    }
   ],
   "source": [
    "# Try concatenating the images in 3D\n",
    "x = np.concatenate([images_array[i] for i in range(15)], axis=2) # this is the concatenation line that goes wrong. I want axis to be set to 2 so they stack in the z plane, but for some reason it doesn't work\n",
    "plt.imshow(x)"
   ]
  },
  {
   "cell_type": "code",
   "execution_count": null,
   "id": "e3532669-04a4-4011-98eb-d581ca5560a7",
   "metadata": {},
   "outputs": [],
   "source": [
    "# potential bugs:\n",
    "# - incorrect indexing of array of slices"
   ]
  },
  {
   "cell_type": "code",
   "execution_count": null,
   "id": "0669e654-5d65-4a08-a57a-91b5d9828bec",
   "metadata": {},
   "outputs": [],
   "source": [
    "# try rearranging stack so 1024x1024 x 15\n",
    "\n",
    "print(\"shape of array = \", np.shape(images_array))\n",
    "stacked = np.dstack(images_array)\n",
    "\n",
    "print(\"shape of new array = \", np.shape(stacked))"
   ]
  },
  {
   "cell_type": "code",
   "execution_count": null,
   "id": "78eb27b8-b8b5-46ec-81b8-312e50ea78fd",
   "metadata": {},
   "outputs": [],
   "source": [
    "%matplotlib\n",
    "from matplotlib import colors\n",
    "\n",
    "plt.subplot(1,1,1)\n",
    "slice1 = stacked[..., 0]\n",
    "plt.imshow(slice1, cmap='gray', norm=colors.NoNorm()) "
   ]
  },
  {
   "cell_type": "code",
   "execution_count": 33,
   "id": "712913c7-ffe4-4d2f-ad35-027a79673383",
   "metadata": {},
   "outputs": [
    {
     "data": {
      "text/plain": [
       "(1024, 1024)"
      ]
     },
     "execution_count": 33,
     "metadata": {},
     "output_type": "execute_result"
    }
   ],
   "source": [
    "np.shape(slice1)"
   ]
  },
  {
   "cell_type": "code",
   "execution_count": 58,
   "id": "4d035502-9f0d-455c-ae96-8b8eed7a1018",
   "metadata": {},
   "outputs": [],
   "source": [
    "# Try the red channel images\n",
    "\n",
    "# have Rchannel-stack-1.tif file in the same directory as this file for it to work\n",
    "\n",
    "import numpy as np\n",
    "from PIL import Image, ImageSequence\n",
    "import matplotlib.pyplot as plt\n",
    "\n",
    "# Load image\n",
    "im = Image.open('Rchannel-stack-1.tif')\n",
    "\n",
    "# Find no. of slices\n",
    "no_frames = im.n_frames\n",
    "\n",
    "# Create separate tif files for each slice\n",
    "for i in range(no_frames):\n",
    "    im.seek(i)\n",
    "    im.save('Redpage_%s.tif'%(i,))"
   ]
  },
  {
   "cell_type": "code",
   "execution_count": 59,
   "id": "6e193f23-a9bd-48dc-94df-f735b7cf9086",
   "metadata": {},
   "outputs": [
    {
     "data": {
      "text/plain": [
       "(5, 1024, 1024)"
      ]
     },
     "execution_count": 59,
     "metadata": {},
     "output_type": "execute_result"
    }
   ],
   "source": [
    "%matplotlib inline\n",
    "\n",
    "# create list of individual slices of Red stack\n",
    "Rimages = []\n",
    "for i in range(no_frames):\n",
    "    temp_im = Image.open('Redpage_%s.tif'%(i,))\n",
    "    imdata = temp_im.getdata()\n",
    "    x = np.reshape(imdata, (temp_im.height, temp_im.width))\n",
    "    x = np.asarray(x, dtype=np.uint8)\n",
    "    Rimages.append(x)\n",
    "\n",
    "# convert to numpy array\n",
    "Rimages_array = np.asarray(Rimages)\n",
    "np.shape(Rimages_array) # 15, 1024, 1024"
   ]
  },
  {
   "cell_type": "code",
   "execution_count": 67,
   "id": "59be0eca-f24c-47b8-954c-7dc33a79e1ae",
   "metadata": {},
   "outputs": [
    {
     "data": {
      "text/plain": [
       "<matplotlib.colorbar.Colorbar at 0x7f88742701c0>"
      ]
     },
     "execution_count": 67,
     "metadata": {},
     "output_type": "execute_result"
    },
    {
     "data": {
      "image/png": "[encoded data removed]",
      "text/plain": [
       "<Figure size 432x288 with 2 Axes>"
      ]
     },
     "metadata": {
      "needs_background": "light"
     },
     "output_type": "display_data"
    }
   ],
   "source": [
    "# Try showing a single image slice\n",
    "plt.imshow(Rimages_array[1])\n",
    "plt.colorbar()\n",
    "# still showing blue even if we use the red channel that has been isolated in imagej. imagej says lookup table is red for red channel imgs"
   ]
  },
  {
   "cell_type": "code",
   "execution_count": 12,
   "id": "911c4268-6c32-4df3-a61b-dee7099d9f2b",
   "metadata": {},
   "outputs": [
    {
     "name": "stdout",
     "output_type": "stream",
     "text": [
      "The colormap data: (768,)\n"
     ]
    },
    {
     "data": {
      "text/plain": [
       "array([[0.        , 0.        , 0.        ],\n",
       "       [0.        , 0.        , 0.00392157],\n",
       "       [0.        , 0.00392157, 0.00784314],\n",
       "       [0.        , 0.00784314, 0.01176471],\n",
       "       [0.        , 0.01176471, 0.01568627],\n",
       "       [0.        , 0.01568627, 0.01960784],\n",
       "       [0.        , 0.01568627, 0.02352941],\n",
       "       [0.        , 0.01960784, 0.02745098],\n",
       "       [0.        , 0.02352941, 0.03137255],\n",
       "       [0.        , 0.02745098, 0.03529412],\n",
       "       [0.        , 0.03137255, 0.03921569],\n",
       "       [0.        , 0.03137255, 0.04313725],\n",
       "       [0.        , 0.03529412, 0.04705882],\n",
       "       [0.        , 0.03921569, 0.05098039],\n",
       "       [0.        , 0.04313725, 0.05490196],\n",
       "       [0.        , 0.04705882, 0.05882353],\n",
       "       [0.        , 0.04705882, 0.0627451 ],\n",
       "       [0.        , 0.05098039, 0.06666667],\n",
       "       [0.        , 0.05490196, 0.07058824],\n",
       "       [0.        , 0.05882353, 0.0745098 ],\n",
       "       [0.        , 0.0627451 , 0.07843137],\n",
       "       [0.        , 0.0627451 , 0.08235294],\n",
       "       [0.        , 0.06666667, 0.08627451],\n",
       "       [0.        , 0.07058824, 0.09019608],\n",
       "       [0.        , 0.0745098 , 0.09411765],\n",
       "       [0.        , 0.07843137, 0.09803922],\n",
       "       [0.        , 0.07843137, 0.10196078],\n",
       "       [0.        , 0.08235294, 0.10588235],\n",
       "       [0.        , 0.08627451, 0.10980392],\n",
       "       [0.        , 0.09019608, 0.11372549],\n",
       "       [0.        , 0.09411765, 0.11764706],\n",
       "       [0.        , 0.09411765, 0.12156863],\n",
       "       [0.        , 0.09803922, 0.1254902 ],\n",
       "       [0.        , 0.10196078, 0.12941176],\n",
       "       [0.        , 0.10588235, 0.13333333],\n",
       "       [0.        , 0.10980392, 0.1372549 ],\n",
       "       [0.        , 0.10980392, 0.14117647],\n",
       "       [0.        , 0.11372549, 0.14509804],\n",
       "       [0.        , 0.11764706, 0.14901961],\n",
       "       [0.        , 0.12156863, 0.15294118],\n",
       "       [0.        , 0.1254902 , 0.15686275],\n",
       "       [0.        , 0.1254902 , 0.16078431],\n",
       "       [0.        , 0.12941176, 0.16470588],\n",
       "       [0.        , 0.13333333, 0.16862745],\n",
       "       [0.        , 0.1372549 , 0.17254902],\n",
       "       [0.        , 0.14117647, 0.17647059],\n",
       "       [0.        , 0.14117647, 0.18039216],\n",
       "       [0.        , 0.14509804, 0.18431373],\n",
       "       [0.        , 0.14901961, 0.18823529],\n",
       "       [0.        , 0.15294118, 0.19215686],\n",
       "       [0.        , 0.15686275, 0.19607843],\n",
       "       [0.        , 0.15686275, 0.2       ],\n",
       "       [0.        , 0.16078431, 0.20392157],\n",
       "       [0.        , 0.16470588, 0.20784314],\n",
       "       [0.        , 0.16862745, 0.21176471],\n",
       "       [0.        , 0.17254902, 0.21568627],\n",
       "       [0.        , 0.17254902, 0.21960784],\n",
       "       [0.        , 0.17647059, 0.22352941],\n",
       "       [0.        , 0.18039216, 0.22745098],\n",
       "       [0.        , 0.18431373, 0.23137255],\n",
       "       [0.        , 0.18823529, 0.23529412],\n",
       "       [0.        , 0.18823529, 0.23921569],\n",
       "       [0.        , 0.19215686, 0.24313725],\n",
       "       [0.        , 0.19607843, 0.24705882],\n",
       "       [0.        , 0.2       , 0.25098039],\n",
       "       [0.        , 0.20392157, 0.25490196],\n",
       "       [0.        , 0.20392157, 0.25882353],\n",
       "       [0.        , 0.20784314, 0.2627451 ],\n",
       "       [0.        , 0.21176471, 0.26666667],\n",
       "       [0.        , 0.21568627, 0.27058824],\n",
       "       [0.        , 0.21960784, 0.2745098 ],\n",
       "       [0.        , 0.21960784, 0.27843137],\n",
       "       [0.        , 0.22352941, 0.28235294],\n",
       "       [0.        , 0.22745098, 0.28627451],\n",
       "       [0.        , 0.23137255, 0.29019608],\n",
       "       [0.        , 0.23529412, 0.29411765],\n",
       "       [0.        , 0.23529412, 0.29803922],\n",
       "       [0.        , 0.23921569, 0.30196078],\n",
       "       [0.        , 0.24313725, 0.30588235],\n",
       "       [0.        , 0.24705882, 0.30980392],\n",
       "       [0.        , 0.25098039, 0.31372549],\n",
       "       [0.        , 0.25098039, 0.31764706],\n",
       "       [0.        , 0.25490196, 0.32156863],\n",
       "       [0.        , 0.25882353, 0.3254902 ],\n",
       "       [0.        , 0.2627451 , 0.32941176],\n",
       "       [0.        , 0.26666667, 0.33333333],\n",
       "       [0.        , 0.26666667, 0.3372549 ],\n",
       "       [0.        , 0.27058824, 0.34117647],\n",
       "       [0.        , 0.2745098 , 0.34509804],\n",
       "       [0.        , 0.27843137, 0.34901961],\n",
       "       [0.        , 0.28235294, 0.35294118],\n",
       "       [0.        , 0.28235294, 0.35686275],\n",
       "       [0.        , 0.28627451, 0.36078431],\n",
       "       [0.        , 0.29019608, 0.36470588],\n",
       "       [0.        , 0.29411765, 0.36862745],\n",
       "       [0.        , 0.29803922, 0.37254902],\n",
       "       [0.        , 0.29803922, 0.37647059],\n",
       "       [0.        , 0.30196078, 0.38039216],\n",
       "       [0.        , 0.30588235, 0.38431373],\n",
       "       [0.        , 0.30980392, 0.38823529],\n",
       "       [0.        , 0.31372549, 0.39215686],\n",
       "       [0.        , 0.31372549, 0.39607843],\n",
       "       [0.        , 0.31764706, 0.4       ],\n",
       "       [0.        , 0.32156863, 0.40392157],\n",
       "       [0.        , 0.3254902 , 0.40784314],\n",
       "       [0.        , 0.32941176, 0.41176471],\n",
       "       [0.        , 0.32941176, 0.41568627],\n",
       "       [0.        , 0.33333333, 0.41960784],\n",
       "       [0.        , 0.3372549 , 0.42352941],\n",
       "       [0.        , 0.34117647, 0.42745098],\n",
       "       [0.        , 0.34509804, 0.43137255],\n",
       "       [0.        , 0.34509804, 0.43529412],\n",
       "       [0.        , 0.34901961, 0.43921569],\n",
       "       [0.        , 0.35294118, 0.44313725],\n",
       "       [0.        , 0.35686275, 0.44705882],\n",
       "       [0.        , 0.36078431, 0.45098039],\n",
       "       [0.        , 0.36078431, 0.45490196],\n",
       "       [0.        , 0.36470588, 0.45882353],\n",
       "       [0.        , 0.36862745, 0.4627451 ],\n",
       "       [0.        , 0.37254902, 0.46666667],\n",
       "       [0.        , 0.37647059, 0.47058824],\n",
       "       [0.        , 0.37647059, 0.4745098 ],\n",
       "       [0.        , 0.38039216, 0.47843137],\n",
       "       [0.        , 0.38431373, 0.48235294],\n",
       "       [0.        , 0.38823529, 0.48627451],\n",
       "       [0.        , 0.39215686, 0.49019608],\n",
       "       [0.        , 0.39215686, 0.49411765],\n",
       "       [0.        , 0.39607843, 0.49803922],\n",
       "       [0.        , 0.4       , 0.50196078],\n",
       "       [0.        , 0.40392157, 0.50588235],\n",
       "       [0.        , 0.40784314, 0.50980392],\n",
       "       [0.        , 0.40784314, 0.51372549],\n",
       "       [0.        , 0.41176471, 0.51764706],\n",
       "       [0.        , 0.41568627, 0.52156863],\n",
       "       [0.        , 0.41960784, 0.5254902 ],\n",
       "       [0.        , 0.42352941, 0.52941176],\n",
       "       [0.        , 0.42352941, 0.53333333],\n",
       "       [0.        , 0.42745098, 0.5372549 ],\n",
       "       [0.        , 0.43137255, 0.54117647],\n",
       "       [0.        , 0.43529412, 0.54509804],\n",
       "       [0.        , 0.43921569, 0.54901961],\n",
       "       [0.        , 0.43921569, 0.55294118],\n",
       "       [0.        , 0.44313725, 0.55686275],\n",
       "       [0.        , 0.44705882, 0.56078431],\n",
       "       [0.        , 0.45098039, 0.56470588],\n",
       "       [0.        , 0.45490196, 0.56862745],\n",
       "       [0.        , 0.45490196, 0.57254902],\n",
       "       [0.        , 0.45882353, 0.57647059],\n",
       "       [0.        , 0.4627451 , 0.58039216],\n",
       "       [0.        , 0.46666667, 0.58431373],\n",
       "       [0.        , 0.47058824, 0.58823529],\n",
       "       [0.        , 0.47058824, 0.59215686],\n",
       "       [0.        , 0.4745098 , 0.59607843],\n",
       "       [0.        , 0.47843137, 0.6       ],\n",
       "       [0.        , 0.48235294, 0.60392157],\n",
       "       [0.        , 0.48627451, 0.60784314],\n",
       "       [0.        , 0.48627451, 0.61176471],\n",
       "       [0.        , 0.49019608, 0.61568627],\n",
       "       [0.        , 0.49411765, 0.61960784],\n",
       "       [0.        , 0.49803922, 0.62352941],\n",
       "       [0.        , 0.50196078, 0.62745098],\n",
       "       [0.        , 0.50196078, 0.63137255],\n",
       "       [0.        , 0.50588235, 0.63529412],\n",
       "       [0.        , 0.50980392, 0.63921569],\n",
       "       [0.        , 0.51372549, 0.64313725],\n",
       "       [0.        , 0.51764706, 0.64705882],\n",
       "       [0.        , 0.51764706, 0.65098039],\n",
       "       [0.        , 0.52156863, 0.65490196],\n",
       "       [0.        , 0.5254902 , 0.65882353],\n",
       "       [0.        , 0.52941176, 0.6627451 ],\n",
       "       [0.        , 0.53333333, 0.66666667],\n",
       "       [0.        , 0.53333333, 0.67058824],\n",
       "       [0.        , 0.5372549 , 0.6745098 ],\n",
       "       [0.        , 0.54117647, 0.67843137],\n",
       "       [0.        , 0.54509804, 0.68235294],\n",
       "       [0.        , 0.54901961, 0.68627451],\n",
       "       [0.        , 0.54901961, 0.69019608],\n",
       "       [0.        , 0.55294118, 0.69411765],\n",
       "       [0.        , 0.55686275, 0.69803922],\n",
       "       [0.        , 0.56078431, 0.70196078],\n",
       "       [0.        , 0.56470588, 0.70588235],\n",
       "       [0.        , 0.56470588, 0.70980392],\n",
       "       [0.        , 0.56862745, 0.71372549],\n",
       "       [0.        , 0.57254902, 0.71764706],\n",
       "       [0.        , 0.57647059, 0.72156863],\n",
       "       [0.        , 0.58039216, 0.7254902 ],\n",
       "       [0.        , 0.58039216, 0.72941176],\n",
       "       [0.        , 0.58431373, 0.73333333],\n",
       "       [0.        , 0.58823529, 0.7372549 ],\n",
       "       [0.        , 0.59215686, 0.74117647],\n",
       "       [0.        , 0.59607843, 0.74509804],\n",
       "       [0.        , 0.59607843, 0.74901961],\n",
       "       [0.        , 0.6       , 0.75294118],\n",
       "       [0.        , 0.60392157, 0.75686275],\n",
       "       [0.        , 0.60784314, 0.76078431],\n",
       "       [0.        , 0.61176471, 0.76470588],\n",
       "       [0.        , 0.61176471, 0.76862745],\n",
       "       [0.        , 0.61568627, 0.77254902],\n",
       "       [0.        , 0.61960784, 0.77647059],\n",
       "       [0.        , 0.62352941, 0.78039216],\n",
       "       [0.        , 0.62745098, 0.78431373],\n",
       "       [0.        , 0.62745098, 0.78823529],\n",
       "       [0.        , 0.63137255, 0.79215686],\n",
       "       [0.        , 0.63529412, 0.79607843],\n",
       "       [0.        , 0.63921569, 0.8       ],\n",
       "       [0.        , 0.64313725, 0.80392157],\n",
       "       [0.        , 0.64313725, 0.80784314],\n",
       "       [0.        , 0.64705882, 0.81176471],\n",
       "       [0.        , 0.65098039, 0.81568627],\n",
       "       [0.        , 0.65490196, 0.81960784],\n",
       "       [0.        , 0.65882353, 0.82352941],\n",
       "       [0.        , 0.65882353, 0.82745098],\n",
       "       [0.        , 0.6627451 , 0.83137255],\n",
       "       [0.        , 0.66666667, 0.83529412],\n",
       "       [0.        , 0.67058824, 0.83921569],\n",
       "       [0.        , 0.6745098 , 0.84313725],\n",
       "       [0.        , 0.6745098 , 0.84705882],\n",
       "       [0.        , 0.67843137, 0.85098039],\n",
       "       [0.        , 0.68235294, 0.85490196],\n",
       "       [0.        , 0.68627451, 0.85882353],\n",
       "       [0.        , 0.69019608, 0.8627451 ],\n",
       "       [0.        , 0.69019608, 0.86666667],\n",
       "       [0.        , 0.69411765, 0.87058824],\n",
       "       [0.        , 0.69803922, 0.8745098 ],\n",
       "       [0.        , 0.70196078, 0.87843137],\n",
       "       [0.        , 0.70588235, 0.88235294],\n",
       "       [0.        , 0.70588235, 0.88627451],\n",
       "       [0.        , 0.70980392, 0.89019608],\n",
       "       [0.        , 0.71372549, 0.89411765],\n",
       "       [0.        , 0.71764706, 0.89803922],\n",
       "       [0.        , 0.72156863, 0.90196078],\n",
       "       [0.        , 0.72156863, 0.90588235],\n",
       "       [0.        , 0.7254902 , 0.90980392],\n",
       "       [0.        , 0.72941176, 0.91372549],\n",
       "       [0.        , 0.73333333, 0.91764706],\n",
       "       [0.        , 0.7372549 , 0.92156863],\n",
       "       [0.        , 0.7372549 , 0.9254902 ],\n",
       "       [0.        , 0.74117647, 0.92941176],\n",
       "       [0.        , 0.74509804, 0.93333333],\n",
       "       [0.        , 0.74901961, 0.9372549 ],\n",
       "       [0.        , 0.75294118, 0.94117647],\n",
       "       [0.        , 0.75294118, 0.94509804],\n",
       "       [0.        , 0.75686275, 0.94901961],\n",
       "       [0.        , 0.76078431, 0.95294118],\n",
       "       [0.        , 0.76470588, 0.95686275],\n",
       "       [0.        , 0.76862745, 0.96078431],\n",
       "       [0.        , 0.76862745, 0.96470588],\n",
       "       [0.        , 0.77254902, 0.96862745],\n",
       "       [0.        , 0.77647059, 0.97254902],\n",
       "       [0.        , 0.78039216, 0.97647059],\n",
       "       [0.        , 0.78431373, 0.98039216],\n",
       "       [0.        , 0.78431373, 0.98431373],\n",
       "       [0.        , 0.78823529, 0.98823529],\n",
       "       [0.        , 0.79215686, 0.99215686],\n",
       "       [0.        , 0.79607843, 0.99607843],\n",
       "       [0.        , 0.8       , 1.        ]])"
      ]
     },
     "execution_count": 12,
     "metadata": {},
     "output_type": "execute_result"
    },
    {
     "data": {
      "image/png": "[encoded data removed]",
      "text/plain": [
       "<Figure size 432x288 with 2 Axes>"
      ]
     },
     "metadata": {
      "needs_background": "light"
     },
     "output_type": "display_data"
    }
   ],
   "source": [
    "# go from here to investigate colourmap data\n",
    "# use dir(variable) to find data and attributes associated with that image\n",
    "# idea - reshape the array into the number of channels\n",
    "from PIL import Image\n",
    "import numpy as np\n",
    "import matplotlib.cm as cm\n",
    "import matplotlib.colors as colors\n",
    "import matplotlib.pyplot as plt\n",
    "imageObj = Image.open('stack.tif')\n",
    "cmapdata = imageObj.getpalette()\n",
    "imdata = imageObj.getdata()\n",
    "print(\"The colormap data:\", np.shape(cmapdata))\n",
    "dir(imageObj)\n",
    "cmapNx3 = np.reshape(cmapdata,(256,3), order='C')\n",
    "cmapNx3n = np.asarray(cmapNx3, dtype=float)/255.0\n",
    "cmap = colors.ListedColormap(cmapNx3n, name='stack_colormap')\n",
    "plt.imshow(imageObj, cmap=cmap, norm=colors.NoNorm())\n",
    "plt.colorbar()\n",
    "plt.axis('Off')\n",
    "cmapNx3n"
   ]
  },
  {
   "cell_type": "code",
   "execution_count": null,
   "id": "c22866b7-701d-46c6-905c-27c355dbabde",
   "metadata": {},
   "outputs": [],
   "source": []
  }
 ],
 "metadata": {
  "kernelspec": {
   "display_name": "Python 3 (ipykernel)",
   "language": "python",
   "name": "python3"
  },
  "language_info": {
   "codemirror_mode": {
    "name": "ipython",
    "version": 3
   },
   "file_extension": ".py",
   "mimetype": "text/x-python",
   "name": "python",
   "nbconvert_exporter": "python",
   "pygments_lexer": "ipython3",
   "version": "3.9.5"
  }
 },
 "nbformat": 4,
 "nbformat_minor": 5
}
